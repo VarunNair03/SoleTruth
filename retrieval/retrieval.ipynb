{
 "cells": [
  {
   "cell_type": "code",
   "execution_count": 20,
   "metadata": {},
   "outputs": [],
   "source": [
    "import pandas as pd\n",
    "import os\n",
    "import fnmatch\n",
    "from PIL import Image\n",
    "from transformers import (\n",
    "    ViTImageProcessor ,\n",
    "    ViTModel,\n",
    "    ImageClassificationPipeline\n",
    ")\n",
    "from dotenv import load_dotenv\n",
    "from qdrant_client import QdrantClient, models\n",
    "from qdrant_client.models import VectorParams, Distance\n",
    "load_dotenv()\n",
    "pretrained_model_name = r\"..\\trained_model\""
   ]
  },
  {
   "cell_type": "code",
   "execution_count": 21,
   "metadata": {},
   "outputs": [
    {
     "data": {
      "text/plain": [
       "300"
      ]
     },
     "execution_count": 21,
     "metadata": {},
     "output_type": "execute_result"
    }
   ],
   "source": [
    "\n",
    "base_dir = \"Part1\"\n",
    "all_images = os.listdir(base_dir)\n",
    "len(all_images)"
   ]
  },
  {
   "cell_type": "code",
   "execution_count": 22,
   "metadata": {},
   "outputs": [],
   "source": [
    "\n",
    "all_r_images = [f for f in all_images if fnmatch.fnmatch(f, '*R_*.tiff')]"
   ]
  },
  {
   "cell_type": "code",
   "execution_count": 23,
   "metadata": {},
   "outputs": [
    {
     "data": {
      "text/plain": [
       "150"
      ]
     },
     "execution_count": 23,
     "metadata": {},
     "output_type": "execute_result"
    }
   ],
   "source": [
    "all_train_images = list(map(lambda item: f\"{base_dir}/{item}\", all_r_images))\n",
    "len(all_train_images)"
   ]
  },
  {
   "cell_type": "code",
   "execution_count": 24,
   "metadata": {},
   "outputs": [
    {
     "data": {
      "text/plain": [
       "['Part1/001_01_R_01.tiff',\n",
       " 'Part1/001_01_R_02.tiff',\n",
       " 'Part1/001_01_R_03.tiff',\n",
       " 'Part1/001_01_R_04.tiff',\n",
       " 'Part1/001_01_R_05.tiff']"
      ]
     },
     "execution_count": 24,
     "metadata": {},
     "output_type": "execute_result"
    }
   ],
   "source": [
    "all_train_images[:5]"
   ]
  },
  {
   "cell_type": "code",
   "execution_count": 25,
   "metadata": {},
   "outputs": [
    {
     "data": {
      "text/html": [
       "<div>\n",
       "<style scoped>\n",
       "    .dataframe tbody tr th:only-of-type {\n",
       "        vertical-align: middle;\n",
       "    }\n",
       "\n",
       "    .dataframe tbody tr th {\n",
       "        vertical-align: top;\n",
       "    }\n",
       "\n",
       "    .dataframe thead th {\n",
       "        text-align: right;\n",
       "    }\n",
       "</style>\n",
       "<table border=\"1\" class=\"dataframe\">\n",
       "  <thead>\n",
       "    <tr style=\"text-align: right;\">\n",
       "      <th></th>\n",
       "      <th>ID</th>\n",
       "      <th>Gender</th>\n",
       "      <th>Brand</th>\n",
       "      <th>Model/Details</th>\n",
       "      <th>Size</th>\n",
       "    </tr>\n",
       "  </thead>\n",
       "  <tbody>\n",
       "    <tr>\n",
       "      <th>0</th>\n",
       "      <td>001_01</td>\n",
       "      <td>W</td>\n",
       "      <td>Converse</td>\n",
       "      <td>NaN</td>\n",
       "      <td>5.5</td>\n",
       "    </tr>\n",
       "    <tr>\n",
       "      <th>1</th>\n",
       "      <td>002_01</td>\n",
       "      <td>M</td>\n",
       "      <td>Saucony</td>\n",
       "      <td>cohesion_xt600</td>\n",
       "      <td>9.5</td>\n",
       "    </tr>\n",
       "    <tr>\n",
       "      <th>2</th>\n",
       "      <td>002_02</td>\n",
       "      <td>M</td>\n",
       "      <td>Saucony</td>\n",
       "      <td>ride5</td>\n",
       "      <td>9.5</td>\n",
       "    </tr>\n",
       "    <tr>\n",
       "      <th>3</th>\n",
       "      <td>002_05</td>\n",
       "      <td>M</td>\n",
       "      <td>Saucony</td>\n",
       "      <td>stratos4</td>\n",
       "      <td>9.5</td>\n",
       "    </tr>\n",
       "    <tr>\n",
       "      <th>4</th>\n",
       "      <td>002_06</td>\n",
       "      <td>M</td>\n",
       "      <td>Saucony</td>\n",
       "      <td>phantom</td>\n",
       "      <td>9.5</td>\n",
       "    </tr>\n",
       "  </tbody>\n",
       "</table>\n",
       "</div>"
      ],
      "text/plain": [
       "       ID Gender     Brand   Model/Details  Size\n",
       "0  001_01      W  Converse             NaN   5.5\n",
       "1  002_01      M   Saucony  cohesion_xt600   9.5\n",
       "2  002_02      M   Saucony           ride5   9.5\n",
       "3  002_05      M   Saucony        stratos4   9.5\n",
       "4  002_06      M   Saucony         phantom   9.5"
      ]
     },
     "execution_count": 25,
     "metadata": {},
     "output_type": "execute_result"
    }
   ],
   "source": [
    "df_metadata = pd.read_excel(\"./Data-information.xlsx\")\n",
    "df_metadata.head()"
   ]
  },
  {
   "cell_type": "code",
   "execution_count": 26,
   "metadata": {},
   "outputs": [
    {
     "name": "stdout",
     "output_type": "stream",
     "text": [
      "001_01\n",
      "001_01\n",
      "001_01\n",
      "001_01\n",
      "001_01\n",
      "002_01\n",
      "002_01\n",
      "002_01\n",
      "002_01\n",
      "002_01\n",
      "002_02\n",
      "002_02\n",
      "002_02\n",
      "002_02\n",
      "002_02\n",
      "002_05\n",
      "002_05\n",
      "002_05\n",
      "002_05\n",
      "002_05\n",
      "002_06\n",
      "002_06\n",
      "002_06\n",
      "002_06\n",
      "002_06\n",
      "002_07\n",
      "002_07\n",
      "002_07\n",
      "002_07\n",
      "002_07\n",
      "003_01\n",
      "003_01\n",
      "003_01\n",
      "003_01\n",
      "003_01\n",
      "003_02\n",
      "003_02\n",
      "003_02\n",
      "003_02\n",
      "003_02\n",
      "003_03\n",
      "003_03\n",
      "003_03\n",
      "003_03\n",
      "003_03\n",
      "004_01\n",
      "004_01\n",
      "004_01\n",
      "004_01\n",
      "004_01\n",
      "004_04\n",
      "004_04\n",
      "004_04\n",
      "004_04\n",
      "004_04\n",
      "004_05\n",
      "004_05\n",
      "004_05\n",
      "004_05\n",
      "004_05\n",
      "004_06\n",
      "004_06\n",
      "004_06\n",
      "004_06\n",
      "004_06\n",
      "004_07\n",
      "004_07\n",
      "004_07\n",
      "004_07\n",
      "004_07\n",
      "005_01\n",
      "005_01\n",
      "005_01\n",
      "005_01\n",
      "005_01\n",
      "005_02\n",
      "005_02\n",
      "005_02\n",
      "005_02\n",
      "005_02\n",
      "005_03\n",
      "005_03\n",
      "005_03\n",
      "005_03\n",
      "005_03\n",
      "005_04\n",
      "005_04\n",
      "005_04\n",
      "005_04\n",
      "005_04\n",
      "005_05\n",
      "005_05\n",
      "005_05\n",
      "005_05\n",
      "005_05\n",
      "005_06\n",
      "005_06\n",
      "005_06\n",
      "005_06\n",
      "005_06\n",
      "005_07\n",
      "005_07\n",
      "005_07\n",
      "005_07\n",
      "005_07\n",
      "005_08\n",
      "005_08\n",
      "005_08\n",
      "005_08\n",
      "005_08\n",
      "005_09\n",
      "005_09\n",
      "005_09\n",
      "005_09\n",
      "005_09\n",
      "005_10\n",
      "005_10\n",
      "005_10\n",
      "005_10\n",
      "005_10\n",
      "005_11\n",
      "005_11\n",
      "005_11\n",
      "005_11\n",
      "005_11\n",
      "006_01\n",
      "006_01\n",
      "006_01\n",
      "006_01\n",
      "006_01\n",
      "006_02\n",
      "006_02\n",
      "006_02\n",
      "006_02\n",
      "006_02\n",
      "006_03\n",
      "006_03\n",
      "006_03\n",
      "006_03\n",
      "006_03\n",
      "006_04\n",
      "006_04\n",
      "006_04\n",
      "006_04\n",
      "006_04\n",
      "007_01\n",
      "007_01\n",
      "007_01\n",
      "007_01\n",
      "007_01\n"
     ]
    }
   ],
   "source": [
    "# Create a dictionary to store ID to filepath mapping\n",
    "image_dict = {}\n",
    "\n",
    "# Process each image path\n",
    "for path in all_train_images:\n",
    "    # Extract the ID from the filename (e.g., '001_01' from '001_01_R_05.tiff')\n",
    "    filename = os.path.basename(path)  # Get filename without path\n",
    "    id_part = filename.split('_R_')[0]  # Split on '_R_' and take first part\n",
    "    print(id_part)\n",
    "    \n",
    "    # Add to dictionary (if multiple images exist for same ID, keep the last one)\n",
    "    image_dict[id_part] = path\n",
    "\n",
    "# Add image_path column to DataFrame\n",
    "df_metadata['image_url'] = df_metadata['ID'].map(image_dict)"
   ]
  },
  {
   "cell_type": "code",
   "execution_count": 27,
   "metadata": {},
   "outputs": [
    {
     "data": {
      "text/html": [
       "<div>\n",
       "<style scoped>\n",
       "    .dataframe tbody tr th:only-of-type {\n",
       "        vertical-align: middle;\n",
       "    }\n",
       "\n",
       "    .dataframe tbody tr th {\n",
       "        vertical-align: top;\n",
       "    }\n",
       "\n",
       "    .dataframe thead th {\n",
       "        text-align: right;\n",
       "    }\n",
       "</style>\n",
       "<table border=\"1\" class=\"dataframe\">\n",
       "  <thead>\n",
       "    <tr style=\"text-align: right;\">\n",
       "      <th></th>\n",
       "      <th>ID</th>\n",
       "      <th>Gender</th>\n",
       "      <th>Brand</th>\n",
       "      <th>Model/Details</th>\n",
       "      <th>Size</th>\n",
       "      <th>image_url</th>\n",
       "    </tr>\n",
       "  </thead>\n",
       "  <tbody>\n",
       "    <tr>\n",
       "      <th>0</th>\n",
       "      <td>001_01</td>\n",
       "      <td>W</td>\n",
       "      <td>Converse</td>\n",
       "      <td>NaN</td>\n",
       "      <td>5.5</td>\n",
       "      <td>Part1/001_01_R_05.tiff</td>\n",
       "    </tr>\n",
       "    <tr>\n",
       "      <th>1</th>\n",
       "      <td>002_01</td>\n",
       "      <td>M</td>\n",
       "      <td>Saucony</td>\n",
       "      <td>cohesion_xt600</td>\n",
       "      <td>9.5</td>\n",
       "      <td>Part1/002_01_R_05.tiff</td>\n",
       "    </tr>\n",
       "    <tr>\n",
       "      <th>2</th>\n",
       "      <td>002_02</td>\n",
       "      <td>M</td>\n",
       "      <td>Saucony</td>\n",
       "      <td>ride5</td>\n",
       "      <td>9.5</td>\n",
       "      <td>Part1/002_02_R_05.tiff</td>\n",
       "    </tr>\n",
       "    <tr>\n",
       "      <th>3</th>\n",
       "      <td>002_05</td>\n",
       "      <td>M</td>\n",
       "      <td>Saucony</td>\n",
       "      <td>stratos4</td>\n",
       "      <td>9.5</td>\n",
       "      <td>Part1/002_05_R_05.tiff</td>\n",
       "    </tr>\n",
       "    <tr>\n",
       "      <th>4</th>\n",
       "      <td>002_06</td>\n",
       "      <td>M</td>\n",
       "      <td>Saucony</td>\n",
       "      <td>phantom</td>\n",
       "      <td>9.5</td>\n",
       "      <td>Part1/002_06_R_05.tiff</td>\n",
       "    </tr>\n",
       "  </tbody>\n",
       "</table>\n",
       "</div>"
      ],
      "text/plain": [
       "       ID Gender     Brand   Model/Details  Size               image_url\n",
       "0  001_01      W  Converse             NaN   5.5  Part1/001_01_R_05.tiff\n",
       "1  002_01      M   Saucony  cohesion_xt600   9.5  Part1/002_01_R_05.tiff\n",
       "2  002_02      M   Saucony           ride5   9.5  Part1/002_02_R_05.tiff\n",
       "3  002_05      M   Saucony        stratos4   9.5  Part1/002_05_R_05.tiff\n",
       "4  002_06      M   Saucony         phantom   9.5  Part1/002_06_R_05.tiff"
      ]
     },
     "execution_count": 27,
     "metadata": {},
     "output_type": "execute_result"
    }
   ],
   "source": [
    "df_metadata.head()"
   ]
  },
  {
   "cell_type": "code",
   "execution_count": 28,
   "metadata": {},
   "outputs": [],
   "source": [
    "df_metadata = df_metadata.dropna(subset=['image_url'])"
   ]
  },
  {
   "cell_type": "code",
   "execution_count": 29,
   "metadata": {},
   "outputs": [
    {
     "data": {
      "text/plain": [
       "30"
      ]
     },
     "execution_count": 29,
     "metadata": {},
     "output_type": "execute_result"
    }
   ],
   "source": [
    "len(df_metadata)"
   ]
  },
  {
   "cell_type": "code",
   "execution_count": 30,
   "metadata": {},
   "outputs": [],
   "source": [
    "images = list(map(lambda item: Image.open(item), df_metadata['image_url']))"
   ]
  },
  {
   "cell_type": "code",
   "execution_count": 31,
   "metadata": {},
   "outputs": [
    {
     "name": "stderr",
     "output_type": "stream",
     "text": [
      "Some weights of ViTModel were not initialized from the model checkpoint at ..\\trained_model and are newly initialized: ['vit.pooler.dense.bias', 'vit.pooler.dense.weight']\n",
      "You should probably TRAIN this model on a down-stream task to be able to use it for predictions and inference.\n"
     ]
    }
   ],
   "source": [
    "\n",
    "processor  = ViTImageProcessor.from_pretrained(pretrained_model_name)\n",
    "model = ViTModel.from_pretrained(\n",
    "    pretrained_model_name,\n",
    ")"
   ]
  },
  {
   "cell_type": "code",
   "execution_count": 32,
   "metadata": {},
   "outputs": [],
   "source": [
    "inputs = processor(images, return_tensors=\"pt\")\n",
    "\n",
    "# Pass through ViT model\n",
    "outputs = model(**inputs)\n",
    "\n",
    "# Extract embeddings from the last hidden state\n",
    "embeddings = outputs.last_hidden_state[:, 0, :]  # Take CLS token embedding\n",
    "\n",
    "# Convert to list\n",
    "embeddings = embeddings.detach().numpy().tolist()"
   ]
  },
  {
   "cell_type": "code",
   "execution_count": 33,
   "metadata": {},
   "outputs": [
    {
     "data": {
      "text/plain": [
       "<qdrant_client.qdrant_client.QdrantClient at 0x25d586bb580>"
      ]
     },
     "execution_count": 33,
     "metadata": {},
     "output_type": "execute_result"
    }
   ],
   "source": [
    "qclient = QdrantClient(\n",
    "    url=os.getenv(\"QDRANT_CLUSTER\"),\n",
    "    api_key=os.getenv(\"QDRANT_API_KEY\")\n",
    ")\n",
    "\n",
    "qclient"
   ]
  },
  {
   "cell_type": "code",
   "execution_count": 34,
   "metadata": {},
   "outputs": [
    {
     "name": "stderr",
     "output_type": "stream",
     "text": [
      "C:\\Users\\Varun\\AppData\\Local\\Temp\\ipykernel_14856\\3540345574.py:3: DeprecationWarning: `recreate_collection` method is deprecated and will be removed in the future. Use `collection_exists` to check collection existence and `create_collection` instead.\n",
      "  collection = qclient.recreate_collection(\n"
     ]
    }
   ],
   "source": [
    "collection_name = \"shoeprints_part1\"\n",
    "\n",
    "collection = qclient.recreate_collection(\n",
    "    collection_name=collection_name,\n",
    "    vectors_config=VectorParams(\n",
    "        size=len(embeddings[0]),\n",
    "        distance = Distance.COSINE\n",
    "    )\n",
    ")"
   ]
  },
  {
   "cell_type": "code",
   "execution_count": 35,
   "metadata": {},
   "outputs": [
    {
     "data": {
      "text/plain": [
       "[{'ID': '001_01',\n",
       "  'Gender': 'W',\n",
       "  'Brand': 'Converse',\n",
       "  'Model/Details': nan,\n",
       "  'Size': 5.5,\n",
       "  'image_url': 'Part1/001_01_R_05.tiff'},\n",
       " {'ID': '002_01',\n",
       "  'Gender': 'M',\n",
       "  'Brand': 'Saucony',\n",
       "  'Model/Details': 'cohesion_xt600',\n",
       "  'Size': 9.5,\n",
       "  'image_url': 'Part1/002_01_R_05.tiff'},\n",
       " {'ID': '002_02',\n",
       "  'Gender': 'M',\n",
       "  'Brand': 'Saucony',\n",
       "  'Model/Details': 'ride5',\n",
       "  'Size': 9.5,\n",
       "  'image_url': 'Part1/002_02_R_05.tiff'},\n",
       " {'ID': '002_05',\n",
       "  'Gender': 'M',\n",
       "  'Brand': 'Saucony',\n",
       "  'Model/Details': 'stratos4',\n",
       "  'Size': 9.5,\n",
       "  'image_url': 'Part1/002_05_R_05.tiff'},\n",
       " {'ID': '002_06',\n",
       "  'Gender': 'M',\n",
       "  'Brand': 'Saucony',\n",
       "  'Model/Details': 'phantom',\n",
       "  'Size': 9.5,\n",
       "  'image_url': 'Part1/002_06_R_05.tiff'},\n",
       " {'ID': '002_07',\n",
       "  'Gender': 'M',\n",
       "  'Brand': 'Saucony',\n",
       "  'Model/Details': 'guide9',\n",
       "  'Size': 9.5,\n",
       "  'image_url': 'Part1/002_07_R_05.tiff'},\n",
       " {'ID': '003_01',\n",
       "  'Gender': 'M',\n",
       "  'Brand': 'BAGO',\n",
       "  'Model/Details': 'extralight',\n",
       "  'Size': 10.0,\n",
       "  'image_url': 'Part1/003_01_R_05.tiff'},\n",
       " {'ID': '003_02',\n",
       "  'Gender': 'M',\n",
       "  'Brand': 'Court classic',\n",
       "  'Model/Details': nan,\n",
       "  'Size': 10.5,\n",
       "  'image_url': 'Part1/003_02_R_05.tiff'},\n",
       " {'ID': '003_03',\n",
       "  'Gender': 'M',\n",
       "  'Brand': 'BASS',\n",
       "  'Model/Details': 'webster',\n",
       "  'Size': 10.5,\n",
       "  'image_url': 'Part1/003_03_R_05.tiff'},\n",
       " {'ID': '004_01',\n",
       "  'Gender': 'M',\n",
       "  'Brand': 'Nike',\n",
       "  'Model/Details': 'dual fusion ST2',\n",
       "  'Size': 9.5,\n",
       "  'image_url': 'Part1/004_01_R_05.tiff'},\n",
       " {'ID': '004_04',\n",
       "  'Gender': 'M',\n",
       "  'Brand': 'Asics',\n",
       "  'Model/Details': 'GT-2140',\n",
       "  'Size': 9.5,\n",
       "  'image_url': 'Part1/004_04_R_05.tiff'},\n",
       " {'ID': '004_05',\n",
       "  'Gender': 'M',\n",
       "  'Brand': 'Asics',\n",
       "  'Model/Details': 'GT-2000',\n",
       "  'Size': 9.5,\n",
       "  'image_url': 'Part1/004_05_R_05.tiff'},\n",
       " {'ID': '004_06',\n",
       "  'Gender': 'M',\n",
       "  'Brand': 'Asics',\n",
       "  'Model/Details': 'GEL-cumulus17',\n",
       "  'Size': 9.5,\n",
       "  'image_url': 'Part1/004_06_R_05.tiff'},\n",
       " {'ID': '004_07',\n",
       "  'Gender': 'M',\n",
       "  'Brand': 'Asics',\n",
       "  'Model/Details': 'GEL-sonoma2',\n",
       "  'Size': 9.5,\n",
       "  'image_url': 'Part1/004_07_R_05.tiff'},\n",
       " {'ID': '005_01',\n",
       "  'Gender': 'W',\n",
       "  'Brand': 'Shoedy',\n",
       "  'Model/Details': nan,\n",
       "  'Size': 7.5,\n",
       "  'image_url': 'Part1/005_01_R_05.tiff'},\n",
       " {'ID': '005_02',\n",
       "  'Gender': 'W',\n",
       "  'Brand': 'Prospecs',\n",
       "  'Model/Details': nan,\n",
       "  'Size': 5.5,\n",
       "  'image_url': 'Part1/005_02_R_05.tiff'},\n",
       " {'ID': '005_03',\n",
       "  'Gender': 'W',\n",
       "  'Brand': 'HeyBear',\n",
       "  'Model/Details': nan,\n",
       "  'Size': 6.0,\n",
       "  'image_url': 'Part1/005_03_R_05.tiff'},\n",
       " {'ID': '005_04',\n",
       "  'Gender': 'W',\n",
       "  'Brand': 'Nike',\n",
       "  'Model/Details': nan,\n",
       "  'Size': 7.5,\n",
       "  'image_url': 'Part1/005_04_R_05.tiff'},\n",
       " {'ID': '005_05',\n",
       "  'Gender': 'W',\n",
       "  'Brand': 'Robin',\n",
       "  'Model/Details': nan,\n",
       "  'Size': 7.5,\n",
       "  'image_url': 'Part1/005_05_R_05.tiff'},\n",
       " {'ID': '005_06',\n",
       "  'Gender': 'W',\n",
       "  'Brand': 'Skechers',\n",
       "  'Model/Details': nan,\n",
       "  'Size': 7.0,\n",
       "  'image_url': 'Part1/005_06_R_05.tiff'},\n",
       " {'ID': '005_07',\n",
       "  'Gender': 'W',\n",
       "  'Brand': 'Ninewest',\n",
       "  'Model/Details': nan,\n",
       "  'Size': 7.0,\n",
       "  'image_url': 'Part1/005_07_R_05.tiff'},\n",
       " {'ID': '005_08',\n",
       "  'Gender': 'W',\n",
       "  'Brand': 'T2R',\n",
       "  'Model/Details': nan,\n",
       "  'Size': 7.5,\n",
       "  'image_url': 'Part1/005_08_R_05.tiff'},\n",
       " {'ID': '005_09',\n",
       "  'Gender': 'W',\n",
       "  'Brand': 'T2R',\n",
       "  'Model/Details': nan,\n",
       "  'Size': 8.0,\n",
       "  'image_url': 'Part1/005_09_R_05.tiff'},\n",
       " {'ID': '005_10',\n",
       "  'Gender': 'W',\n",
       "  'Brand': 'Cooeli',\n",
       "  'Model/Details': nan,\n",
       "  'Size': 8.0,\n",
       "  'image_url': 'Part1/005_10_R_05.tiff'},\n",
       " {'ID': '005_11',\n",
       "  'Gender': 'W',\n",
       "  'Brand': 'Nike',\n",
       "  'Model/Details': 'Winflow',\n",
       "  'Size': 8.0,\n",
       "  'image_url': 'Part1/005_11_R_05.tiff'},\n",
       " {'ID': '006_01',\n",
       "  'Gender': 'W',\n",
       "  'Brand': 'Columbus',\n",
       "  'Model/Details': nan,\n",
       "  'Size': 7.0,\n",
       "  'image_url': 'Part1/006_01_R_05.tiff'},\n",
       " {'ID': '006_02',\n",
       "  'Gender': 'W',\n",
       "  'Brand': 'Asics',\n",
       "  'Model/Details': nan,\n",
       "  'Size': 7.0,\n",
       "  'image_url': 'Part1/006_02_R_05.tiff'},\n",
       " {'ID': '006_03',\n",
       "  'Gender': 'W',\n",
       "  'Brand': 'Nike',\n",
       "  'Model/Details': nan,\n",
       "  'Size': 7.0,\n",
       "  'image_url': 'Part1/006_03_R_05.tiff'},\n",
       " {'ID': '006_04',\n",
       "  'Gender': 'W',\n",
       "  'Brand': 'Adidas',\n",
       "  'Model/Details': nan,\n",
       "  'Size': 6.0,\n",
       "  'image_url': 'Part1/006_04_R_05.tiff'},\n",
       " {'ID': '007_01',\n",
       "  'Gender': 'M',\n",
       "  'Brand': 'Adidas',\n",
       "  'Model/Details': nan,\n",
       "  'Size': 11.0,\n",
       "  'image_url': 'Part1/007_01_R_05.tiff'}]"
      ]
     },
     "execution_count": 35,
     "metadata": {},
     "output_type": "execute_result"
    }
   ],
   "source": [
    "payload = df_metadata.to_dict(orient='records')\n",
    "payload"
   ]
  },
  {
   "cell_type": "code",
   "execution_count": 36,
   "metadata": {},
   "outputs": [],
   "source": [
    "records = [\n",
    "    models.Record(\n",
    "        id = idx,\n",
    "        payload = payload[idx],\n",
    "        vector = embeddings[idx]\n",
    "    )\n",
    "    for idx, _ in enumerate(payload)\n",
    "]"
   ]
  },
  {
   "cell_type": "code",
   "execution_count": 37,
   "metadata": {},
   "outputs": [
    {
     "name": "stderr",
     "output_type": "stream",
     "text": [
      "C:\\Users\\Varun\\AppData\\Local\\Temp\\ipykernel_14856\\660385042.py:1: DeprecationWarning: `upload_records` is deprecated, use `upload_points` instead\n",
      "  qclient.upload_records(collection_name, records)\n"
     ]
    }
   ],
   "source": [
    "qclient.upload_records(collection_name, records)"
   ]
  },
  {
   "cell_type": "code",
   "execution_count": null,
   "metadata": {},
   "outputs": [],
   "source": []
  }
 ],
 "metadata": {
  "kernelspec": {
   "display_name": "capstone",
   "language": "python",
   "name": "python3"
  },
  "language_info": {
   "codemirror_mode": {
    "name": "ipython",
    "version": 3
   },
   "file_extension": ".py",
   "mimetype": "text/x-python",
   "name": "python",
   "nbconvert_exporter": "python",
   "pygments_lexer": "ipython3",
   "version": "3.10.16"
  }
 },
 "nbformat": 4,
 "nbformat_minor": 2
}
