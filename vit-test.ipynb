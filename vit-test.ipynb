{
 "cells": [
  {
   "cell_type": "code",
   "execution_count": 1,
   "metadata": {
    "execution": {
     "iopub.execute_input": "2025-02-21T15:42:37.700557Z",
     "iopub.status.busy": "2025-02-21T15:42:37.700302Z",
     "iopub.status.idle": "2025-02-21T15:43:02.403913Z",
     "shell.execute_reply": "2025-02-21T15:43:02.403204Z",
     "shell.execute_reply.started": "2025-02-21T15:42:37.700534Z"
    },
    "trusted": true
   },
   "outputs": [
    {
     "name": "stderr",
     "output_type": "stream",
     "text": [
      "c:\\Users\\Varun\\anaconda3\\envs\\capstone\\lib\\site-packages\\tqdm\\auto.py:21: TqdmWarning: IProgress not found. Please update jupyter and ipywidgets. See https://ipywidgets.readthedocs.io/en/stable/user_install.html\n",
      "  from .autonotebook import tqdm as notebook_tqdm\n"
     ]
    }
   ],
   "source": [
    "import os\n",
    "import numpy as np\n",
    "\n",
    "from datasets import load_dataset\n",
    "import evaluate\n",
    "\n",
    "from transformers import (\n",
    "    ViTImageProcessor ,\n",
    "    ViTMSNForImageClassification,\n",
    "    TrainingArguments,\n",
    "    Trainer\n",
    ")\n",
    "import os\n",
    "os.environ[\"WANDB_DISABLED\"] = \"true\""
   ]
  },
  {
   "cell_type": "code",
   "execution_count": 2,
   "metadata": {
    "execution": {
     "iopub.execute_input": "2025-02-21T15:43:02.405157Z",
     "iopub.status.busy": "2025-02-21T15:43:02.404635Z",
     "iopub.status.idle": "2025-02-21T15:43:33.163804Z",
     "shell.execute_reply": "2025-02-21T15:43:33.163077Z",
     "shell.execute_reply.started": "2025-02-21T15:43:02.405136Z"
    },
    "trusted": true
   },
   "outputs": [],
   "source": [
    "train_dir = \"train-dataset\"\n",
    "val_dir   = \"val-dataset\"\n",
    "dataset = load_dataset(\"imagefolder\", data_dir=\"train-dataset\")"
   ]
  },
  {
   "cell_type": "code",
   "execution_count": 3,
   "metadata": {
    "execution": {
     "iopub.execute_input": "2025-02-21T15:44:30.797207Z",
     "iopub.status.busy": "2025-02-21T15:44:30.796903Z",
     "iopub.status.idle": "2025-02-21T15:44:30.800984Z",
     "shell.execute_reply": "2025-02-21T15:44:30.800157Z",
     "shell.execute_reply.started": "2025-02-21T15:44:30.797185Z"
    },
    "trusted": true
   },
   "outputs": [],
   "source": [
    "train_ds = dataset[\"train\"]\n",
    "val_ds   = dataset[\"validation\"]"
   ]
  },
  {
   "cell_type": "code",
   "execution_count": 4,
   "metadata": {
    "execution": {
     "iopub.execute_input": "2025-02-21T15:44:31.495235Z",
     "iopub.status.busy": "2025-02-21T15:44:31.494950Z",
     "iopub.status.idle": "2025-02-21T15:44:31.500961Z",
     "shell.execute_reply": "2025-02-21T15:44:31.499953Z",
     "shell.execute_reply.started": "2025-02-21T15:44:31.495215Z"
    },
    "trusted": true
   },
   "outputs": [
    {
     "name": "stdout",
     "output_type": "stream",
     "text": [
      "Number of classes: 19\n",
      "Label names: ['AD-AZ-60', 'AD-FC-30', 'AD-OW-35', 'AD-SS-30', 'AD-UT-55', 'BA-BS-50', 'BE-HS-50', 'CO-CH-40', 'DI-DW-50', 'DR-PL-35', 'RP-XX-30', 'RP-XX-35', 'SK-SP-35', 'SL-SL-50', 'SL-SL-55', 'SO-SG-45', 'SO-XX-60', 'SW-XX-60', 'VA-ST-55']\n"
     ]
    }
   ],
   "source": [
    "labels = train_ds.features[\"label\"].names\n",
    "num_labels = len(labels)\n",
    "\n",
    "# Create id2label/label2id dicts\n",
    "id2label = {i: label for i, label in enumerate(labels)}\n",
    "label2id = {label: i for i, label in enumerate(labels)}\n",
    "\n",
    "print(\"Number of classes:\", num_labels)\n",
    "print(\"Label names:\", labels)\n",
    "pretrained_model_name = \"facebook/vit-msn-base\""
   ]
  },
  {
   "cell_type": "code",
   "execution_count": 5,
   "metadata": {
    "execution": {
     "iopub.execute_input": "2025-02-21T15:44:32.302830Z",
     "iopub.status.busy": "2025-02-21T15:44:32.302435Z",
     "iopub.status.idle": "2025-02-21T15:44:32.765460Z",
     "shell.execute_reply": "2025-02-21T15:44:32.764522Z",
     "shell.execute_reply.started": "2025-02-21T15:44:32.302799Z"
    },
    "trusted": true
   },
   "outputs": [],
   "source": [
    "feature_extractor = ViTImageProcessor.from_pretrained(pretrained_model_name)"
   ]
  },
  {
   "cell_type": "code",
   "execution_count": 6,
   "metadata": {
    "execution": {
     "iopub.execute_input": "2025-02-21T15:44:35.454483Z",
     "iopub.status.busy": "2025-02-21T15:44:35.454153Z",
     "iopub.status.idle": "2025-02-21T15:44:35.458534Z",
     "shell.execute_reply": "2025-02-21T15:44:35.457561Z",
     "shell.execute_reply.started": "2025-02-21T15:44:35.454457Z"
    },
    "trusted": true
   },
   "outputs": [],
   "source": [
    "def preprocess_images(examples):\n",
    "    # examples[\"image\"] is a list of PIL.Image objects\n",
    "    inputs = feature_extractor(examples[\"image\"], return_tensors=\"pt\")\n",
    "    # Store the label in \"labels\" for the model\n",
    "    return inputs"
   ]
  },
  {
   "cell_type": "code",
   "execution_count": 7,
   "metadata": {
    "execution": {
     "iopub.execute_input": "2025-02-21T15:44:35.814970Z",
     "iopub.status.busy": "2025-02-21T15:44:35.814691Z",
     "iopub.status.idle": "2025-02-21T15:49:38.473238Z",
     "shell.execute_reply": "2025-02-21T15:49:38.472402Z",
     "shell.execute_reply.started": "2025-02-21T15:44:35.814950Z"
    },
    "trusted": true
   },
   "outputs": [],
   "source": [
    "train_ds = train_ds.map(preprocess_images, batched=True)\n",
    "val_ds   = val_ds.map(preprocess_images, batched=True)"
   ]
  },
  {
   "cell_type": "code",
   "execution_count": 8,
   "metadata": {
    "execution": {
     "iopub.execute_input": "2025-02-21T15:49:45.912543Z",
     "iopub.status.busy": "2025-02-21T15:49:45.912213Z",
     "iopub.status.idle": "2025-02-21T15:49:46.017388Z",
     "shell.execute_reply": "2025-02-21T15:49:46.016400Z",
     "shell.execute_reply.started": "2025-02-21T15:49:45.912515Z"
    },
    "trusted": true
   },
   "outputs": [],
   "source": [
    "val_ds = val_ds.rename_column(\"label\", \"labels\")\n",
    "train_ds = train_ds.rename_column(\"label\", \"labels\")"
   ]
  },
  {
   "cell_type": "code",
   "execution_count": 9,
   "metadata": {
    "execution": {
     "iopub.execute_input": "2025-02-21T15:49:47.255756Z",
     "iopub.status.busy": "2025-02-21T15:49:47.255425Z",
     "iopub.status.idle": "2025-02-21T15:49:47.260877Z",
     "shell.execute_reply": "2025-02-21T15:49:47.259980Z",
     "shell.execute_reply.started": "2025-02-21T15:49:47.255729Z"
    },
    "trusted": true
   },
   "outputs": [
    {
     "data": {
      "text/plain": [
       "Dataset({\n",
       "    features: ['image', 'labels', 'pixel_values'],\n",
       "    num_rows: 11379\n",
       "})"
      ]
     },
     "execution_count": 9,
     "metadata": {},
     "output_type": "execute_result"
    }
   ],
   "source": [
    "train_ds"
   ]
  },
  {
   "cell_type": "code",
   "execution_count": 10,
   "metadata": {
    "execution": {
     "iopub.execute_input": "2025-02-21T15:49:48.523991Z",
     "iopub.status.busy": "2025-02-21T15:49:48.523699Z",
     "iopub.status.idle": "2025-02-21T15:49:48.528667Z",
     "shell.execute_reply": "2025-02-21T15:49:48.527956Z",
     "shell.execute_reply.started": "2025-02-21T15:49:48.523969Z"
    },
    "trusted": true
   },
   "outputs": [],
   "source": [
    "train_ds.set_format(type=\"torch\", columns=[\"pixel_values\", \"labels\"])\n",
    "val_ds.set_format(type=\"torch\", columns=[\"pixel_values\", \"labels\"])\n"
   ]
  },
  {
   "cell_type": "code",
   "execution_count": 11,
   "metadata": {
    "execution": {
     "iopub.execute_input": "2025-02-21T15:49:51.593928Z",
     "iopub.status.busy": "2025-02-21T15:49:51.593642Z",
     "iopub.status.idle": "2025-02-21T15:50:07.757452Z",
     "shell.execute_reply": "2025-02-21T15:50:07.756832Z",
     "shell.execute_reply.started": "2025-02-21T15:49:51.593906Z"
    },
    "trusted": true
   },
   "outputs": [
    {
     "name": "stderr",
     "output_type": "stream",
     "text": [
      "Some weights of ViTMSNForImageClassification were not initialized from the model checkpoint at facebook/vit-msn-base and are newly initialized: ['classifier.bias', 'classifier.weight']\n",
      "You should probably TRAIN this model on a down-stream task to be able to use it for predictions and inference.\n"
     ]
    }
   ],
   "source": [
    "model = ViTMSNForImageClassification.from_pretrained(\n",
    "    pretrained_model_name,\n",
    "    num_labels=num_labels,\n",
    "    id2label={i: str(i) for i in range(num_labels)},\n",
    "    label2id={str(i): i for i in range(num_labels)},\n",
    "    # ignore_mismatched_sizes=True\n",
    ")\n",
    "accuracy_metric = evaluate.load(\"accuracy\")"
   ]
  },
  {
   "cell_type": "code",
   "execution_count": 12,
   "metadata": {
    "execution": {
     "iopub.execute_input": "2025-02-21T15:50:13.066945Z",
     "iopub.status.busy": "2025-02-21T15:50:13.066654Z",
     "iopub.status.idle": "2025-02-21T15:50:13.071298Z",
     "shell.execute_reply": "2025-02-21T15:50:13.070374Z",
     "shell.execute_reply.started": "2025-02-21T15:50:13.066922Z"
    },
    "trusted": true
   },
   "outputs": [],
   "source": [
    "def compute_metrics(eval_pred):\n",
    "    logits, labels = eval_pred\n",
    "    preds = np.argmax(logits, axis=-1)\n",
    "    return accuracy_metric.compute(predictions=preds, references=labels)"
   ]
  },
  {
   "cell_type": "code",
   "execution_count": 13,
   "metadata": {
    "execution": {
     "iopub.execute_input": "2025-02-21T15:50:15.977791Z",
     "iopub.status.busy": "2025-02-21T15:50:15.977505Z",
     "iopub.status.idle": "2025-02-21T15:50:16.077382Z",
     "shell.execute_reply": "2025-02-21T15:50:16.076713Z",
     "shell.execute_reply.started": "2025-02-21T15:50:15.977771Z"
    },
    "trusted": true
   },
   "outputs": [
    {
     "name": "stderr",
     "output_type": "stream",
     "text": [
      "Using the `WANDB_DISABLED` environment variable is deprecated and will be removed in v5. Use the --report_to flag to control the integrations used for logging result (for instance --report_to none).\n"
     ]
    }
   ],
   "source": [
    "training_args = TrainingArguments(\n",
    "  output_dir=\"./vit-model\",\n",
    "  per_device_train_batch_size=16,\n",
    "  eval_strategy=\"steps\",\n",
    "  num_train_epochs=2,\n",
    "  fp16=True,\n",
    "  save_steps=100,\n",
    "  eval_steps=100,\n",
    "  logging_steps=10,\n",
    "  learning_rate=2e-4,\n",
    "  save_total_limit=2,\n",
    "  remove_unused_columns=False,\n",
    "  push_to_hub=False,\n",
    "  report_to=None,\n",
    "  load_best_model_at_end=True,\n",
    ")"
   ]
  },
  {
   "cell_type": "code",
   "execution_count": 14,
   "metadata": {
    "execution": {
     "iopub.execute_input": "2025-02-21T15:50:29.662988Z",
     "iopub.status.busy": "2025-02-21T15:50:29.662648Z",
     "iopub.status.idle": "2025-02-21T15:50:30.119460Z",
     "shell.execute_reply": "2025-02-21T15:50:30.118782Z",
     "shell.execute_reply.started": "2025-02-21T15:50:29.662962Z"
    },
    "trusted": true
   },
   "outputs": [],
   "source": [
    "trainer = Trainer(\n",
    "    model=model,\n",
    "    args=training_args,\n",
    "    compute_metrics=compute_metrics,\n",
    "    train_dataset=train_ds,\n",
    "    eval_dataset=val_ds,\n",
    "    processing_class=feature_extractor,\n",
    ")"
   ]
  },
  {
   "cell_type": "code",
   "execution_count": 15,
   "metadata": {
    "execution": {
     "iopub.execute_input": "2025-02-21T15:50:31.902077Z",
     "iopub.status.busy": "2025-02-21T15:50:31.901793Z",
     "iopub.status.idle": "2025-02-21T16:22:20.275381Z",
     "shell.execute_reply": "2025-02-21T16:22:20.274607Z",
     "shell.execute_reply.started": "2025-02-21T15:50:31.902055Z"
    },
    "trusted": true
   },
   "outputs": [
    {
     "data": {
      "text/html": [
       "\n",
       "    <div>\n",
       "      \n",
       "      <progress value='1424' max='1424' style='width:300px; height:20px; vertical-align: middle;'></progress>\n",
       "      [1424/1424 23:19, Epoch 2/2]\n",
       "    </div>\n",
       "    <table border=\"1\" class=\"dataframe\">\n",
       "  <thead>\n",
       " <tr style=\"text-align: left;\">\n",
       "      <th>Step</th>\n",
       "      <th>Training Loss</th>\n",
       "      <th>Validation Loss</th>\n",
       "      <th>Accuracy</th>\n",
       "    </tr>\n",
       "  </thead>\n",
       "  <tbody>\n",
       "    <tr>\n",
       "      <td>100</td>\n",
       "      <td>3.260400</td>\n",
       "      <td>3.207176</td>\n",
       "      <td>0.040665</td>\n",
       "    </tr>\n",
       "    <tr>\n",
       "      <td>200</td>\n",
       "      <td>2.103600</td>\n",
       "      <td>1.911350</td>\n",
       "      <td>0.458410</td>\n",
       "    </tr>\n",
       "    <tr>\n",
       "      <td>300</td>\n",
       "      <td>1.336600</td>\n",
       "      <td>1.674114</td>\n",
       "      <td>0.572089</td>\n",
       "    </tr>\n",
       "    <tr>\n",
       "      <td>400</td>\n",
       "      <td>0.939200</td>\n",
       "      <td>0.541656</td>\n",
       "      <td>0.837338</td>\n",
       "    </tr>\n",
       "    <tr>\n",
       "      <td>500</td>\n",
       "      <td>0.652400</td>\n",
       "      <td>0.533780</td>\n",
       "      <td>0.838262</td>\n",
       "    </tr>\n",
       "    <tr>\n",
       "      <td>600</td>\n",
       "      <td>0.458000</td>\n",
       "      <td>0.262601</td>\n",
       "      <td>0.918669</td>\n",
       "    </tr>\n",
       "    <tr>\n",
       "      <td>700</td>\n",
       "      <td>0.373300</td>\n",
       "      <td>0.432470</td>\n",
       "      <td>0.875231</td>\n",
       "    </tr>\n",
       "    <tr>\n",
       "      <td>800</td>\n",
       "      <td>0.616500</td>\n",
       "      <td>0.298643</td>\n",
       "      <td>0.909427</td>\n",
       "    </tr>\n",
       "    <tr>\n",
       "      <td>900</td>\n",
       "      <td>0.080900</td>\n",
       "      <td>0.159183</td>\n",
       "      <td>0.949168</td>\n",
       "    </tr>\n",
       "    <tr>\n",
       "      <td>1000</td>\n",
       "      <td>0.097600</td>\n",
       "      <td>0.256344</td>\n",
       "      <td>0.938078</td>\n",
       "    </tr>\n",
       "    <tr>\n",
       "      <td>1100</td>\n",
       "      <td>0.114700</td>\n",
       "      <td>0.128722</td>\n",
       "      <td>0.963956</td>\n",
       "    </tr>\n",
       "    <tr>\n",
       "      <td>1200</td>\n",
       "      <td>0.030600</td>\n",
       "      <td>0.128297</td>\n",
       "      <td>0.969501</td>\n",
       "    </tr>\n",
       "    <tr>\n",
       "      <td>1300</td>\n",
       "      <td>0.056800</td>\n",
       "      <td>0.066560</td>\n",
       "      <td>0.981516</td>\n",
       "    </tr>\n",
       "    <tr>\n",
       "      <td>1400</td>\n",
       "      <td>0.010200</td>\n",
       "      <td>0.014321</td>\n",
       "      <td>0.996303</td>\n",
       "    </tr>\n",
       "  </tbody>\n",
       "</table><p>"
      ],
      "text/plain": [
       "<IPython.core.display.HTML object>"
      ]
     },
     "metadata": {},
     "output_type": "display_data"
    },
    {
     "data": {
      "text/plain": [
       "TrainOutput(global_step=1424, training_loss=0.8571953054496579, metrics={'train_runtime': 1400.5462, 'train_samples_per_second': 16.249, 'train_steps_per_second': 1.017, 'total_flos': 1.7638314059780628e+18, 'train_loss': 0.8571953054496579, 'epoch': 2.0})"
      ]
     },
     "execution_count": 15,
     "metadata": {},
     "output_type": "execute_result"
    }
   ],
   "source": [
    "trainer.train()"
   ]
  },
  {
   "cell_type": "code",
   "execution_count": 16,
   "metadata": {
    "execution": {
     "iopub.execute_input": "2025-02-21T16:22:20.276904Z",
     "iopub.status.busy": "2025-02-21T16:22:20.276638Z",
     "iopub.status.idle": "2025-02-21T16:22:39.205092Z",
     "shell.execute_reply": "2025-02-21T16:22:39.204405Z",
     "shell.execute_reply.started": "2025-02-21T16:22:20.276883Z"
    },
    "trusted": true
   },
   "outputs": [
    {
     "data": {
      "text/html": [
       "\n",
       "    <div>\n",
       "      \n",
       "      <progress value='136' max='136' style='width:300px; height:20px; vertical-align: middle;'></progress>\n",
       "      [136/136 00:24]\n",
       "    </div>\n",
       "    "
      ],
      "text/plain": [
       "<IPython.core.display.HTML object>"
      ]
     },
     "metadata": {},
     "output_type": "display_data"
    },
    {
     "name": "stdout",
     "output_type": "stream",
     "text": [
      "Evaluation results: {'eval_loss': 0.01432074699550867, 'eval_accuracy': 0.9963031423290203, 'eval_runtime': 25.2894, 'eval_samples_per_second': 42.785, 'eval_steps_per_second': 5.378, 'epoch': 2.0}\n"
     ]
    }
   ],
   "source": [
    "eval_results = trainer.evaluate()\n",
    "print(\"Evaluation results:\", eval_results)"
   ]
  },
  {
   "cell_type": "code",
   "execution_count": 17,
   "metadata": {
    "execution": {
     "iopub.execute_input": "2025-02-21T16:22:39.206959Z",
     "iopub.status.busy": "2025-02-21T16:22:39.206749Z",
     "iopub.status.idle": "2025-02-21T16:22:39.624508Z",
     "shell.execute_reply": "2025-02-21T16:22:39.623851Z",
     "shell.execute_reply.started": "2025-02-21T16:22:39.206940Z"
    },
    "trusted": true
   },
   "outputs": [],
   "source": [
    "trainer.save_model('trained_model-msn')"
   ]
  },
  {
   "cell_type": "code",
   "execution_count": null,
   "metadata": {
    "trusted": true
   },
   "outputs": [],
   "source": []
  }
 ],
 "metadata": {
  "kaggle": {
   "accelerator": "gpu",
   "dataSources": [
    {
     "datasetId": 6700864,
     "sourceId": 10796863,
     "sourceType": "datasetVersion"
    }
   ],
   "dockerImageVersionId": 30887,
   "isGpuEnabled": true,
   "isInternetEnabled": true,
   "language": "python",
   "sourceType": "notebook"
  },
  "kernelspec": {
   "display_name": "capstone",
   "language": "python",
   "name": "python3"
  },
  "language_info": {
   "codemirror_mode": {
    "name": "ipython",
    "version": 3
   },
   "file_extension": ".py",
   "mimetype": "text/x-python",
   "name": "python",
   "nbconvert_exporter": "python",
   "pygments_lexer": "ipython3",
   "version": "3.10.16"
  }
 },
 "nbformat": 4,
 "nbformat_minor": 4
}
